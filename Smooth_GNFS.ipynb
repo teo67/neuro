{
 "cells": [
  {
   "cell_type": "markdown",
   "id": "fc9cc1e9-2bc3-4f39-ba4c-0a3e7d736ab9",
   "metadata": {},
   "source": [
    "## Helper Functions"
   ]
  },
  {
   "cell_type": "code",
   "execution_count": 1,
   "id": "5ba5624a-fcec-4822-9ac2-66fea58337d3",
   "metadata": {},
   "outputs": [],
   "source": [
    "def gcd(a, b):\n",
    "    if (a == 0):\n",
    "        return b\n",
    "    return gcd(b % a, a)"
   ]
  },
  {
   "cell_type": "code",
   "execution_count": null,
   "id": "966ad6b1-6230-4dcb-893c-940d7937cba0",
   "metadata": {},
   "outputs": [],
   "source": []
  }
 ],
 "metadata": {
  "kernelspec": {
   "display_name": "Python 3 (ipykernel)",
   "language": "python",
   "name": "python3"
  },
  "language_info": {
   "codemirror_mode": {
    "name": "ipython",
    "version": 3
   },
   "file_extension": ".py",
   "mimetype": "text/x-python",
   "name": "python",
   "nbconvert_exporter": "python",
   "pygments_lexer": "ipython3",
   "version": "3.10.12"
  }
 },
 "nbformat": 4,
 "nbformat_minor": 5
}
